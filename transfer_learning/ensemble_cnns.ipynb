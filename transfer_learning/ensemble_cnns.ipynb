{
 "cells": [
  {
   "cell_type": "code",
   "execution_count": 18,
   "metadata": {},
   "outputs": [],
   "source": [
    "import os\n",
    "import pickle\n",
    "import json\n",
    "import numpy as np\n",
    "from keras.layers import Input,Dense,Conv2D,Flatten\n",
    "from keras.models import Model\n",
    "from keras.preprocessing import image\n",
    "from keras.models import Model\n",
    "from sklearn.metrics import f1_score\n",
    "import pickle"
   ]
  },
  {
   "cell_type": "code",
   "execution_count": 3,
   "metadata": {},
   "outputs": [],
   "source": [
    "with open('inception_results.pckl','rb') as inception_res:\n",
    "    inception_val,true_labels,inception_test_val = pickle.load(inception_res)\n",
    "with open('nasnet_results.pckl','rb') as nasnet_res:\n",
    "    nasnet_val,true_labels,nasnet_test_val = pickle.load(nasnet_res)\n",
    "with open('resnet_results.pckl','rb') as resnet_res:\n",
    "    resnet_val,true_labels,resnet_test_val = pickle.load(resnet_res)\n",
    "with open('vgg_results.pckl','rb') as vgg_res:\n",
    "    vgg_val,true_labels,vgg_test_val = pickle.load(vgg_res)"
   ]
  },
  {
   "cell_type": "code",
   "execution_count": 8,
   "metadata": {},
   "outputs": [],
   "source": [
    "number_of_models = 4\n",
    "number_of_classes = 229"
   ]
  },
  {
   "cell_type": "code",
   "execution_count": 30,
   "metadata": {},
   "outputs": [],
   "source": [
    "input_data = np.dstack((inception_val,nasnet_val,resnet_val,vgg_val))"
   ]
  },
  {
   "cell_type": "code",
   "execution_count": 42,
   "metadata": {},
   "outputs": [],
   "source": [
    "input_dt = np.expand_dims(input_data,axis=3)"
   ]
  },
  {
   "cell_type": "code",
   "execution_count": 44,
   "metadata": {},
   "outputs": [],
   "source": [
    "inp = Input(shape=(number_of_classes,number_of_models,1)) "
   ]
  },
  {
   "cell_type": "code",
   "execution_count": 45,
   "metadata": {},
   "outputs": [],
   "source": [
    "middle = Conv2D(16, (1, 2))(inp)\n",
    "middle = Conv2D(32, (1, 3))(middle)\n",
    "middle = Flatten()(middle)\n",
    "middle = Dense(1024)(middle)\n",
    "final = Dense(number_of_classes, activation='sigmoid')(middle)\n",
    "model = Model(inputs= inp,outputs=final)"
   ]
  },
  {
   "cell_type": "code",
   "execution_count": 36,
   "metadata": {},
   "outputs": [
    {
     "name": "stdout",
     "output_type": "stream",
     "text": [
      "_________________________________________________________________\n",
      "Layer (type)                 Output Shape              Param #   \n",
      "=================================================================\n",
      "input_2 (InputLayer)         (None, 229, 4, 1)         0         \n",
      "_________________________________________________________________\n",
      "conv2d_26 (Conv2D)           (None, 229, 3, 16)        48        \n",
      "_________________________________________________________________\n",
      "conv2d_27 (Conv2D)           (None, 229, 1, 32)        1568      \n",
      "_________________________________________________________________\n",
      "flatten_7 (Flatten)          (None, 7328)              0         \n",
      "_________________________________________________________________\n",
      "dense_12 (Dense)             (None, 1024)              7504896   \n",
      "_________________________________________________________________\n",
      "dense_13 (Dense)             (None, 229)               234725    \n",
      "=================================================================\n",
      "Total params: 7,741,237\n",
      "Trainable params: 7,741,237\n",
      "Non-trainable params: 0\n",
      "_________________________________________________________________\n"
     ]
    }
   ],
   "source": [
    "model.summary()"
   ]
  },
  {
   "cell_type": "code",
   "execution_count": 94,
   "metadata": {},
   "outputs": [
    {
     "name": "stdout",
     "output_type": "stream",
     "text": [
      "Epoch 1/5\n",
      "7917/7917 [==============================] - 3s 410us/step - loss: 0.0630\n",
      "Epoch 2/5\n",
      "7917/7917 [==============================] - 3s 368us/step - loss: 0.0616\n",
      "Epoch 3/5\n",
      "7917/7917 [==============================] - 3s 369us/step - loss: 0.0606\n",
      "Epoch 4/5\n",
      "7917/7917 [==============================] - 3s 368us/step - loss: 0.0598\n",
      "Epoch 5/5\n",
      "7917/7917 [==============================] - 3s 369us/step - loss: 0.0593\n",
      "0.6089010442565888\n",
      "Epoch 1/5\n",
      "7917/7917 [==============================] - 3s 405us/step - loss: 0.0608\n",
      "Epoch 2/5\n",
      "7917/7917 [==============================] - 3s 370us/step - loss: 0.0594\n",
      "Epoch 3/5\n",
      "7917/7917 [==============================] - 3s 378us/step - loss: 0.0586\n",
      "Epoch 4/5\n",
      "7917/7917 [==============================] - 3s 373us/step - loss: 0.0579\n",
      "Epoch 5/5\n",
      "7917/7917 [==============================] - 3s 406us/step - loss: 0.0573\n",
      "0.6131916547881301\n",
      "Epoch 1/5\n",
      "7918/7918 [==============================] - 4s 450us/step - loss: 0.0594\n",
      "Epoch 2/5\n",
      "7918/7918 [==============================] - 3s 403us/step - loss: 0.0580\n",
      "Epoch 3/5\n",
      "7918/7918 [==============================] - 3s 390us/step - loss: 0.0576\n",
      "Epoch 4/5\n",
      "7918/7918 [==============================] - 3s 377us/step - loss: 0.0567\n",
      "Epoch 5/5\n",
      "7918/7918 [==============================] - 3s 379us/step - loss: 0.0562\n",
      "0.6289327671181922\n",
      "Epoch 1/5\n",
      "7918/7918 [==============================] - 3s 418us/step - loss: 0.0583\n",
      "Epoch 2/5\n",
      "7918/7918 [==============================] - 3s 384us/step - loss: 0.0571\n",
      "Epoch 3/5\n",
      "7918/7918 [==============================] - 3s 380us/step - loss: 0.0560\n",
      "Epoch 4/5\n",
      "7918/7918 [==============================] - 3s 376us/step - loss: 0.0555\n",
      "Epoch 5/5\n",
      "7918/7918 [==============================] - 3s 380us/step - loss: 0.0551\n",
      "0.6367230940318794\n",
      "Epoch 1/5\n",
      "7918/7918 [==============================] - 3s 431us/step - loss: 0.0569\n",
      "Epoch 2/5\n",
      "7918/7918 [==============================] - 3s 380us/step - loss: 0.0555\n",
      "Epoch 3/5\n",
      "7918/7918 [==============================] - 3s 375us/step - loss: 0.0548\n",
      "Epoch 4/5\n",
      "7918/7918 [==============================] - 3s 374us/step - loss: 0.0544\n",
      "Epoch 5/5\n",
      "7918/7918 [==============================] - 3s 373us/step - loss: 0.0540\n",
      "0.6339592291273548\n"
     ]
    }
   ],
   "source": [
    "from sklearn.model_selection import KFold\n",
    "kf = KFold(n_splits=5)\n",
    "for train,test in kf.split(input_dt):\n",
    "    model.compile(optimizer='adam',loss='binary_crossentropy')\n",
    "    model.fit(input_dt[train],np.array(true_labels)[train],epochs=5)\n",
    "    predicted = model.predict(input_dt[test])\n",
    "    predicted[predicted>=0.3] = 1\n",
    "    predicted[predicted<0.3] = 0\n",
    "    print(f1_score(np.array(np.array(true_labels)[test]),predicted,average='micro'))"
   ]
  },
  {
   "cell_type": "code",
   "execution_count": 95,
   "metadata": {},
   "outputs": [
    {
     "name": "stdout",
     "output_type": "stream",
     "text": [
      "0.6848945607056917\n"
     ]
    }
   ],
   "source": [
    "predicted = model.predict(input_dt)\n",
    "predicted[predicted>=0.3] = 1\n",
    "predicted[predicted<0.3] = 0\n",
    "print(f1_score(np.array(true_labels),predicted,average='micro'))"
   ]
  },
  {
   "cell_type": "code",
   "execution_count": 96,
   "metadata": {},
   "outputs": [],
   "source": [
    "predicted = model.predict(np.expand_dims(np.dstack((inception_test_val,nasnet_test_val,resnet_test_val,vgg_test_val)),axis=3))\n",
    "predicted[predicted>=0.3] = 1\n",
    "predicted[predicted<0.3] = 0"
   ]
  },
  {
   "cell_type": "code",
   "execution_count": 97,
   "metadata": {},
   "outputs": [],
   "source": [
    "outputs = []\n",
    "for i in range(predicted.shape[0]):\n",
    "        arr = np.where(predicted[i]==1)[0]\n",
    "        outputs.append(\" \".join(map(str, arr.tolist())))"
   ]
  },
  {
   "cell_type": "code",
   "execution_count": 98,
   "metadata": {},
   "outputs": [],
   "source": [
    "import pandas as pd\n",
    "df = pd.DataFrame()"
   ]
  },
  {
   "cell_type": "code",
   "execution_count": 99,
   "metadata": {},
   "outputs": [],
   "source": [
    "with open(\"test_data_vgg19.pckl\",'rb') as write_file:\n",
    "    image_features,img_ids = pickle.load(write_file)"
   ]
  },
  {
   "cell_type": "code",
   "execution_count": 100,
   "metadata": {},
   "outputs": [],
   "source": [
    "df['image_id'] = img_ids\n",
    "df['label_id'] = outputs"
   ]
  },
  {
   "cell_type": "code",
   "execution_count": null,
   "metadata": {},
   "outputs": [],
   "source": [
    "df.to_csv(\"predictions.csv\",index=False)"
   ]
  },
  {
   "cell_type": "code",
   "execution_count": null,
   "metadata": {},
   "outputs": [],
   "source": []
  }
 ],
 "metadata": {
  "kernelspec": {
   "display_name": "Python 3",
   "language": "python",
   "name": "python3"
  },
  "language_info": {
   "codemirror_mode": {
    "name": "ipython",
    "version": 3
   },
   "file_extension": ".py",
   "mimetype": "text/x-python",
   "name": "python",
   "nbconvert_exporter": "python",
   "pygments_lexer": "ipython3",
   "version": "3.6.5"
  }
 },
 "nbformat": 4,
 "nbformat_minor": 2
}
