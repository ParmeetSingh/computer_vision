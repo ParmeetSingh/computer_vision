{
 "cells": [
  {
   "cell_type": "code",
   "execution_count": 1,
   "metadata": {},
   "outputs": [
    {
     "name": "stderr",
     "output_type": "stream",
     "text": [
      "/home/parmeet/anaconda3/lib/python3.6/site-packages/h5py/__init__.py:36: FutureWarning: Conversion of the second argument of issubdtype from `float` to `np.floating` is deprecated. In future, it will be treated as `np.float64 == np.dtype(float).type`.\n",
      "  from ._conv import register_converters as _register_converters\n",
      "Using TensorFlow backend.\n",
      "/home/parmeet/anaconda3/lib/python3.6/importlib/_bootstrap.py:219: RuntimeWarning: compiletime version 3.5 of module 'tensorflow.python.framework.fast_tensor_util' does not match runtime version 3.6\n",
      "  return f(*args, **kwds)\n"
     ]
    }
   ],
   "source": [
    "import os\n",
    "import pickle\n",
    "import json\n",
    "import numpy as np\n",
    "from keras.layers import Input,Dense,Conv2D,Flatten\n",
    "from keras.models import Model\n",
    "from keras.preprocessing import image\n",
    "from keras.models import Model\n",
    "from sklearn.metrics import f1_score\n",
    "import pickle\n",
    "from keras.layers import BatchNormalization"
   ]
  },
  {
   "cell_type": "code",
   "execution_count": 2,
   "metadata": {},
   "outputs": [],
   "source": [
    "with open('inception_results.pckl','rb') as inception_res:\n",
    "    inception_val,true_labels,inception_test_val = pickle.load(inception_res)\n",
    "with open('nasnet_results.pckl','rb') as nasnet_res:\n",
    "    nasnet_val,true_labels,nasnet_test_val = pickle.load(nasnet_res)\n",
    "with open('resnet_results.pckl','rb') as resnet_res:\n",
    "    resnet_val,true_labels,resnet_test_val = pickle.load(resnet_res)\n",
    "with open('vgg_results.pckl','rb') as vgg_res:\n",
    "    vgg_val,true_labels,vgg_test_val = pickle.load(vgg_res)"
   ]
  },
  {
   "cell_type": "code",
   "execution_count": 3,
   "metadata": {},
   "outputs": [],
   "source": [
    "number_of_models = 4\n",
    "number_of_classes = 229"
   ]
  },
  {
   "cell_type": "code",
   "execution_count": 4,
   "metadata": {},
   "outputs": [],
   "source": [
    "input_data = np.dstack((inception_val,nasnet_val,resnet_val,vgg_val))"
   ]
  },
  {
   "cell_type": "code",
   "execution_count": 5,
   "metadata": {},
   "outputs": [],
   "source": [
    "input_dt = np.expand_dims(input_data,axis=3)"
   ]
  },
  {
   "cell_type": "code",
   "execution_count": 6,
   "metadata": {},
   "outputs": [],
   "source": [
    "inp = Input(shape=(number_of_classes,number_of_models,1)) "
   ]
  },
  {
   "cell_type": "code",
   "execution_count": 7,
   "metadata": {},
   "outputs": [],
   "source": [
    "middle = Conv2D(16, (1, 2))(inp)\n",
    "middle = Conv2D(32, (1, 3))(middle)\n",
    "middle = BatchNormalization()(middle)\n",
    "middle = Flatten()(middle)\n",
    "middle = Dense(1024)(middle)\n",
    "middle = BatchNormalization()(middle)\n",
    "final = Dense(number_of_classes, activation='sigmoid')(middle)\n",
    "model = Model(inputs= inp,outputs=final)"
   ]
  },
  {
   "cell_type": "code",
   "execution_count": 8,
   "metadata": {},
   "outputs": [
    {
     "name": "stdout",
     "output_type": "stream",
     "text": [
      "_________________________________________________________________\n",
      "Layer (type)                 Output Shape              Param #   \n",
      "=================================================================\n",
      "input_1 (InputLayer)         (None, 229, 4, 1)         0         \n",
      "_________________________________________________________________\n",
      "conv2d_1 (Conv2D)            (None, 229, 3, 16)        48        \n",
      "_________________________________________________________________\n",
      "conv2d_2 (Conv2D)            (None, 229, 1, 32)        1568      \n",
      "_________________________________________________________________\n",
      "batch_normalization_1 (Batch (None, 229, 1, 32)        128       \n",
      "_________________________________________________________________\n",
      "flatten_1 (Flatten)          (None, 7328)              0         \n",
      "_________________________________________________________________\n",
      "dense_1 (Dense)              (None, 1024)              7504896   \n",
      "_________________________________________________________________\n",
      "batch_normalization_2 (Batch (None, 1024)              4096      \n",
      "_________________________________________________________________\n",
      "dense_2 (Dense)              (None, 229)               234725    \n",
      "=================================================================\n",
      "Total params: 7,745,461\n",
      "Trainable params: 7,743,349\n",
      "Non-trainable params: 2,112\n",
      "_________________________________________________________________\n"
     ]
    }
   ],
   "source": [
    "model.summary()"
   ]
  },
  {
   "cell_type": "code",
   "execution_count": 9,
   "metadata": {},
   "outputs": [
    {
     "name": "stdout",
     "output_type": "stream",
     "text": [
      "Epoch 1/10\n",
      "6598/6598 [==============================] - 5s 701us/step - loss: 0.2670\n",
      "Epoch 2/10\n",
      "6598/6598 [==============================] - 3s 385us/step - loss: 0.0750\n",
      "Epoch 3/10\n",
      "6598/6598 [==============================] - 3s 388us/step - loss: 0.0722\n",
      "Epoch 4/10\n",
      "6598/6598 [==============================] - 3s 386us/step - loss: 0.0703\n",
      "Epoch 5/10\n",
      "6598/6598 [==============================] - 3s 392us/step - loss: 0.0694\n",
      "Epoch 6/10\n",
      "6598/6598 [==============================] - 3s 385us/step - loss: 0.0681\n",
      "Epoch 7/10\n",
      "6598/6598 [==============================] - 3s 384us/step - loss: 0.0674\n",
      "Epoch 8/10\n",
      "6598/6598 [==============================] - 3s 386us/step - loss: 0.0653\n",
      "Epoch 9/10\n",
      "6598/6598 [==============================] - 3s 385us/step - loss: 0.0650\n",
      "Epoch 10/10\n",
      "6598/6598 [==============================] - 3s 394us/step - loss: 0.0632\n",
      "0.6005466322213486\n",
      "Epoch 1/10\n",
      "6598/6598 [==============================] - 3s 428us/step - loss: 0.0715\n",
      "Epoch 2/10\n",
      "6598/6598 [==============================] - 3s 389us/step - loss: 0.0668\n",
      "Epoch 3/10\n",
      "6598/6598 [==============================] - 3s 390us/step - loss: 0.0646\n",
      "Epoch 4/10\n",
      "6598/6598 [==============================] - 3s 391us/step - loss: 0.0631\n",
      "Epoch 5/10\n",
      "6598/6598 [==============================] - 3s 389us/step - loss: 0.0618\n",
      "Epoch 6/10\n",
      "6598/6598 [==============================] - 3s 393us/step - loss: 0.0604\n",
      "Epoch 7/10\n",
      "6598/6598 [==============================] - 3s 396us/step - loss: 0.0590\n",
      "Epoch 8/10\n",
      "6598/6598 [==============================] - 3s 404us/step - loss: 0.0580\n",
      "Epoch 9/10\n",
      "6598/6598 [==============================] - 3s 403us/step - loss: 0.0572\n",
      "Epoch 10/10\n",
      "6598/6598 [==============================] - 3s 401us/step - loss: 0.0565\n",
      "0.6031173946160849\n",
      "Epoch 1/10\n",
      "6598/6598 [==============================] - 3s 447us/step - loss: 0.0648\n",
      "Epoch 2/10\n",
      "6598/6598 [==============================] - 3s 393us/step - loss: 0.0612\n",
      "Epoch 3/10\n",
      "6598/6598 [==============================] - 3s 389us/step - loss: 0.0595\n",
      "Epoch 4/10\n",
      "6598/6598 [==============================] - 3s 406us/step - loss: 0.0584\n",
      "Epoch 5/10\n",
      "6598/6598 [==============================] - 3s 399us/step - loss: 0.0569\n",
      "Epoch 6/10\n",
      "6598/6598 [==============================] - 3s 400us/step - loss: 0.0561\n",
      "Epoch 7/10\n",
      "6598/6598 [==============================] - 3s 399us/step - loss: 0.0553\n",
      "Epoch 8/10\n",
      "6598/6598 [==============================] - 3s 399us/step - loss: 0.0546\n",
      "Epoch 9/10\n",
      "6598/6598 [==============================] - 3s 401us/step - loss: 0.0539\n",
      "Epoch 10/10\n",
      "6598/6598 [==============================] - 3s 402us/step - loss: 0.0533\n",
      "0.6132525060711743\n"
     ]
    }
   ],
   "source": [
    "from sklearn.model_selection import KFold\n",
    "kf = KFold(n_splits=3)\n",
    "for train,test in kf.split(input_dt):\n",
    "    model.compile(optimizer='adam',loss='binary_crossentropy')\n",
    "    model.fit(input_dt[train],np.array(true_labels)[train],epochs=10)\n",
    "    predicted = model.predict(input_dt[test])\n",
    "    predicted[predicted>=0.3] = 1\n",
    "    predicted[predicted<0.3] = 0\n",
    "    print(f1_score(np.array(np.array(true_labels)[test]),predicted,average='micro'))"
   ]
  },
  {
   "cell_type": "code",
   "execution_count": 10,
   "metadata": {},
   "outputs": [
    {
     "name": "stdout",
     "output_type": "stream",
     "text": [
      "0.6777304601587678\n"
     ]
    }
   ],
   "source": [
    "predicted = model.predict(input_dt)\n",
    "predicted[predicted>=0.3] = 1\n",
    "predicted[predicted<0.3] = 0\n",
    "print(f1_score(np.array(true_labels),predicted,average='micro'))"
   ]
  },
  {
   "cell_type": "code",
   "execution_count": 11,
   "metadata": {},
   "outputs": [],
   "source": [
    "predicted = model.predict(np.expand_dims(np.dstack((inception_test_val,nasnet_test_val,resnet_test_val,vgg_test_val)),axis=3))\n",
    "predicted[predicted>=0.3] = 1\n",
    "predicted[predicted<0.3] = 0"
   ]
  },
  {
   "cell_type": "code",
   "execution_count": 12,
   "metadata": {},
   "outputs": [],
   "source": [
    "outputs = []\n",
    "for i in range(predicted.shape[0]):\n",
    "        arr = np.where(predicted[i]==1)[0]\n",
    "        outputs.append(\" \".join(map(str, arr.tolist())))"
   ]
  },
  {
   "cell_type": "code",
   "execution_count": 13,
   "metadata": {},
   "outputs": [],
   "source": [
    "import pandas as pd\n",
    "df = pd.DataFrame()"
   ]
  },
  {
   "cell_type": "code",
   "execution_count": 14,
   "metadata": {},
   "outputs": [],
   "source": [
    "with open(\"test_data_vgg19.pckl\",'rb') as write_file:\n",
    "    image_features,img_ids = pickle.load(write_file)"
   ]
  },
  {
   "cell_type": "code",
   "execution_count": 15,
   "metadata": {},
   "outputs": [],
   "source": [
    "df['image_id'] = img_ids\n",
    "df['label_id'] = outputs"
   ]
  },
  {
   "cell_type": "code",
   "execution_count": 16,
   "metadata": {},
   "outputs": [],
   "source": [
    "df.to_csv(\"predictions.csv\",index=False)"
   ]
  },
  {
   "cell_type": "code",
   "execution_count": null,
   "metadata": {},
   "outputs": [],
   "source": []
  },
  {
   "cell_type": "code",
   "execution_count": null,
   "metadata": {},
   "outputs": [],
   "source": []
  }
 ],
 "metadata": {
  "kernelspec": {
   "display_name": "Python 3",
   "language": "python",
   "name": "python3"
  },
  "language_info": {
   "codemirror_mode": {
    "name": "ipython",
    "version": 3
   },
   "file_extension": ".py",
   "mimetype": "text/x-python",
   "name": "python",
   "nbconvert_exporter": "python",
   "pygments_lexer": "ipython3",
   "version": "3.6.5"
  }
 },
 "nbformat": 4,
 "nbformat_minor": 2
}
